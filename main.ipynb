{
 "cells": [
  {
   "cell_type": "markdown",
   "id": "b1f64b29",
   "metadata": {},
   "source": [
    "Realizamos las importaciónes correspondientes\n",
    "cargamos el dataset, seleccionamos columnas relevantes y limpiamos."
   ]
  },
  {
   "cell_type": "code",
   "execution_count": null,
   "id": "fe96442f",
   "metadata": {},
   "outputs": [
    {
     "name": "stdout",
     "output_type": "stream",
     "text": [
      "Número de filas después de limpieza: 1460\n",
      "   GrLivArea  SalePrice\n",
      "0       1710     208500\n",
      "1       1262     181500\n",
      "2       1786     223500\n",
      "3       1717     140000\n",
      "4       2198     250000\n"
     ]
    }
   ],
   "source": [
    "import pandas as pd\n",
    "from sklearn.model_selection import train_test_split\n",
    "from sklearn.linear_model import LinearRegression\n",
    "import matplotlib.pyplot as plt\n",
    "\n",
    "# Cargar el dataset\n",
    "data = pd.read_csv('./train_.csv')\n",
    "\n",
    "# Seleccionar columnas relevantes y limpiar\n",
    "data = data[['GrLivArea', 'SalePrice']].dropna()\n",
    "\n",
    "# Verificar filas\n",
    "print(f\"Número de filas después de limpieza: {len(data)}\")\n",
    "print(data.head())"
   ]
  },
  {
   "cell_type": "markdown",
   "id": "30d6c602",
   "metadata": {},
   "source": [
    "3. Cree y entrene un modelo de regresión lineal con la librería Scikit Learn."
   ]
  }
 ],
 "metadata": {
  "kernelspec": {
   "display_name": "venv",
   "language": "python",
   "name": "python3"
  },
  "language_info": {
   "codemirror_mode": {
    "name": "ipython",
    "version": 3
   },
   "file_extension": ".py",
   "mimetype": "text/x-python",
   "name": "python",
   "nbconvert_exporter": "python",
   "pygments_lexer": "ipython3",
   "version": "3.13.2"
  }
 },
 "nbformat": 4,
 "nbformat_minor": 5
}
